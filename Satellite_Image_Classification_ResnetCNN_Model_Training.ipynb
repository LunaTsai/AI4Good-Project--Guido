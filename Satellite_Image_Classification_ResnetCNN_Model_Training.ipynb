{
  "nbformat": 4,
  "nbformat_minor": 0,
  "metadata": {
    "colab": {
      "provenance": [],
      "gpuType": "T4",
      "collapsed_sections": [
        "Y66gOx1G_xC7"
      ],
      "machine_shape": "hm"
    },
    "kernelspec": {
      "name": "python3",
      "display_name": "Python 3"
    },
    "language_info": {
      "name": "python"
    },
    "accelerator": "GPU"
  },
  "cells": [
    {
      "cell_type": "code",
      "source": [
        "!pip install torchmetrics datasets"
      ],
      "metadata": {
        "id": "M2PMuttniSSd",
        "collapsed": true
      },
      "execution_count": null,
      "outputs": []
    },
    {
      "cell_type": "markdown",
      "source": [
        "# Define Model Training Function"
      ],
      "metadata": {
        "id": "Y66gOx1G_xC7"
      }
    },
    {
      "cell_type": "code",
      "source": [
        "# Import necessary libraries\n",
        "import torch\n",
        "from torchvision import datasets, models, transforms\n",
        "from torch.utils.data import DataLoader\n",
        "import torch.nn as nn\n",
        "import torch.optim as c\n",
        "import torch.nn.functional as F\n",
        "from google.colab import drive\n",
        "from torchmetrics import Accuracy, ConfusionMatrix\n",
        "\n",
        "# Mount Google Drive\n",
        "drive.mount('/content/drive')\n",
        "\n",
        "# Paths\n",
        "train_root = '/content/drive/MyDrive/your_google_drive_path'\n",
        "test_root = '/content/drive/MyDrive/your_google_drive_path'\n",
        "\n",
        "\n",
        "dataset = datasets.ImageFolder(root=train_root)\n",
        "print(dataset.classes)\n",
        "\n",
        "num_classes = 3\n",
        "\n",
        "def test(model, test_loader, metrics, device):\n",
        "  for key, metric in metrics.items():\n",
        "    metric.reset()\n",
        "    metric.to(device)\n",
        "\n",
        "  model.eval()\n",
        "  with torch.no_grad():\n",
        "      for inputs, labels in test_loader:\n",
        "          inputs, labels = inputs.to(device), labels.to(device)\n",
        "          outputs = model(inputs)\n",
        "\n",
        "          for key, metric in metrics.items():\n",
        "              metric(outputs, labels)\n",
        "\n",
        "  return metrics\n",
        "\n",
        "def train(model, train_loader, criterion, optimizer, metrics, device):\n",
        "  train_loss = 0.0\n",
        "  n_samples = 0\n",
        "  for key, metric in metrics.items():\n",
        "    metric.reset()\n",
        "    metric.to(device)\n",
        "\n",
        "  model.train()\n",
        "  for inputs, labels in train_loader:\n",
        "      inputs, labels = inputs.to(device), labels.to(device)\n",
        "      optimizer.zero_grad()\n",
        "      outputs = model(inputs)\n",
        "      loss = criterion(outputs, labels)\n",
        "      loss.backward()\n",
        "      optimizer.step()\n",
        "      train_loss += loss.item() * inputs.size(0)\n",
        "      n_samples += inputs.size(0)\n",
        "\n",
        "      for key, metric in metrics.items():\n",
        "          metric(outputs, labels)\n",
        "\n",
        "  train_loss /= n_samples\n",
        "  return train_loss, metrics\n",
        "\n",
        "\n",
        "def run(model, optimizer, train_transform, test_transform, num_epochs=10, batch_size=64):\n",
        "  device = torch.device(\"cuda\" if torch.cuda.is_available() else \"cpu\")\n",
        "  model.to(device)\n",
        "\n",
        "  train_dataset = datasets.ImageFolder(root=train_root, transform=train_transform)\n",
        "  test_dataset = datasets.ImageFolder(root=test_root, transform=test_transform)\n",
        "\n",
        "  samples_per_class = torch.tensor([9, 18+13, 25], dtype=torch.float32)\n",
        "  weights = 1 / samples_per_class\n",
        "  weights = weights.to(device)\n",
        "\n",
        "  train_loader = DataLoader(train_dataset, batch_size=batch_size, shuffle=True, num_workers=4)\n",
        "  test_loader = DataLoader(test_dataset, batch_size=batch_size, shuffle=False, num_workers=4)\n",
        "\n",
        "  criterion = nn.CrossEntropyLoss(weight=weights)\n",
        "\n",
        "  train_metrics = {\"Accuracy\": Accuracy(task=\"multiclass\", num_classes=num_classes), \"Confusion_Matrix\": ConfusionMatrix(task=\"multiclass\", num_classes=num_classes)}\n",
        "  test_metrics = {\"Accuracy\": Accuracy(task=\"multiclass\", num_classes=num_classes), \"Confusion_Matrix\": ConfusionMatrix(task=\"multiclass\", num_classes=num_classes)}\n",
        "  for epoch in range(num_epochs):\n",
        "    train_loss, _ = train(model, train_loader, criterion, optimizer, train_metrics, device)\n",
        "    test(model, test_loader, test_metrics, device)\n",
        "    print(f'Epoch {epoch + 1}/{num_epochs}, Train Loss: {train_loss:.4f}, Train Accuracy: {train_metrics[\"Accuracy\"].compute().item():.4f}, Test Accuracy: {test_metrics[\"Accuracy\"].compute().item():.4f}')\n",
        "\n",
        "  return train_metrics, test_metrics"
      ],
      "metadata": {
        "id": "wBfo8KV_eiYr",
        "colab": {
          "base_uri": "https://localhost:8080/"
        },
        "outputId": "d8a93c22-466d-4a1e-cabd-0331dab3c80c"
      },
      "execution_count": null,
      "outputs": [
        {
          "output_type": "stream",
          "name": "stdout",
          "text": [
            "Mounted at /content/drive\n",
            "['Cross', 'Offset', 'T']\n"
          ]
        }
      ]
    },
    {
      "cell_type": "markdown",
      "source": [
        "#Model Training--ResNet CNN (3 class)"
      ],
      "metadata": {
        "id": "Swnj4AAH8amp"
      }
    },
    {
      "cell_type": "code",
      "source": [
        "# Load pre-trained ResNet model\n",
        "num_classes = 3  # Update based on your dataset\n",
        "model = models.resnet18(pretrained=True)\n",
        "model.fc = nn.Linear(model.fc.in_features, num_classes)\n",
        "\n",
        "optimizer = optim.Adam(model.parameters(), lr=5e-4)\n",
        "\n",
        "train_transform = transforms.Compose([\n",
        "    transforms.Resize((224, 224)),\n",
        "    transforms.RandomRotation(degrees=180),\n",
        "    transforms.RandomHorizontalFlip(),\n",
        "    transforms.RandomVerticalFlip(),\n",
        "    transforms.ColorJitter(),\n",
        "    transforms.ToTensor(),\n",
        "    transforms.Normalize(mean=[0.485, 0.456, 0.406], std=[0.229, 0.224, 0.225])\n",
        "])\n",
        "test_transform = transforms.Compose([\n",
        "    transforms.Resize((224, 224)),\n",
        "    transforms.ToTensor(),\n",
        "    transforms.Normalize(mean=[0.485, 0.456, 0.406], std=[0.229, 0.224, 0.225])\n",
        "])\n",
        "\n",
        "train_metrics, test_metrics = run(model, optimizer, train_transform, test_transform, num_epochs=5)\n",
        "\n",
        "# Print final metrics\n",
        "print(f\"Final Train Accuracy: {train_metrics['Accuracy'].compute().item():.4f}\")\n",
        "print(f\"Final Test Accuracy: {test_metrics['Accuracy'].compute().item():.4f}\")\n",
        "\n",
        "\n",
        "# Save the model's state dictionary\n",
        "save_path = '/content/drive/My Drive/your_google_drive_path/your_saving_file_name.pth'\n",
        "torch.save(model.state_dict(), save_path)"
      ],
      "metadata": {
        "colab": {
          "base_uri": "https://localhost:8080/"
        },
        "id": "a1KSVLxS8gBE",
        "outputId": "dc834558-0536-4878-9b33-2482e74e26aa"
      },
      "execution_count": null,
      "outputs": [
        {
          "output_type": "stream",
          "name": "stderr",
          "text": [
            "/usr/local/lib/python3.10/dist-packages/torchvision/models/_utils.py:208: UserWarning: The parameter 'pretrained' is deprecated since 0.13 and may be removed in the future, please use 'weights' instead.\n",
            "  warnings.warn(\n",
            "/usr/local/lib/python3.10/dist-packages/torchvision/models/_utils.py:223: UserWarning: Arguments other than a weight enum or `None` for 'weights' are deprecated since 0.13 and may be removed in the future. The current behavior is equivalent to passing `weights=ResNet18_Weights.IMAGENET1K_V1`. You can also use `weights=ResNet18_Weights.DEFAULT` to get the most up-to-date weights.\n",
            "  warnings.warn(msg)\n"
          ]
        },
        {
          "output_type": "stream",
          "name": "stdout",
          "text": [
            "Epoch 1/5, Train Loss: 1.5471, Train Accuracy: 0.3363, Test Accuracy: 0.5854\n",
            "Epoch 2/5, Train Loss: 0.7818, Train Accuracy: 0.6903, Test Accuracy: 0.5854\n",
            "Epoch 3/5, Train Loss: 0.5831, Train Accuracy: 0.6460, Test Accuracy: 0.6341\n",
            "Epoch 4/5, Train Loss: 0.4146, Train Accuracy: 0.7257, Test Accuracy: 0.7073\n",
            "Epoch 5/5, Train Loss: 0.3115, Train Accuracy: 0.8230, Test Accuracy: 0.6829\n",
            "Final Train Accuracy: 0.8230\n",
            "Final Test Accuracy: 0.6829\n"
          ]
        }
      ]
    },
    {
      "cell_type": "code",
      "source": [
        "train_metrics[\"Confusion_Matrix\"].plot()\n",
        "test_metrics[\"Confusion_Matrix\"].plot()"
      ],
      "metadata": {
        "colab": {
          "base_uri": "https://localhost:8080/",
          "height": 1000
        },
        "id": "Z1_ci0e732UB",
        "outputId": "dbc23c06-f260-45ad-f2e0-05fc31ddf0cb"
      },
      "execution_count": null,
      "outputs": [
        {
          "output_type": "execute_result",
          "data": {
            "text/plain": [
              "(<Figure size 640x480 with 1 Axes>,\n",
              " <Axes: xlabel='Predicted class', ylabel='True class'>)"
            ]
          },
          "metadata": {},
          "execution_count": 11
        },
        {
          "output_type": "display_data",
          "data": {
            "text/plain": [
              "<Figure size 640x480 with 1 Axes>"
            ],
            "image/png": "[encoded data removed]"
          },
          "metadata": {}
        },
        {
          "output_type": "display_data",
          "data": {
            "text/plain": [
              "<Figure size 640x480 with 1 Axes>"
            ],
            "image/png": "[encoded data removed]"
          },
          "metadata": {}
        }
      ]
    }
  ]
}