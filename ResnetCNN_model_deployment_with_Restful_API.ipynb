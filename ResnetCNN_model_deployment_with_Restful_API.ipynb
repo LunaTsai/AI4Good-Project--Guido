{
  "nbformat": 4,
  "nbformat_minor": 0,
  "metadata": {
    "colab": {
      "provenance": []
    },
    "kernelspec": {
      "name": "python3",
      "display_name": "Python 3"
    },
    "language_info": {
      "name": "python"
    }
  },
  "cells": [
    {
      "cell_type": "markdown",
      "source": [
        "# ResNet CNN deployment with Restful API"
      ],
      "metadata": {
        "id": "VX99tUvKN-ra"
      }
    },
    {
      "cell_type": "code",
      "execution_count": null,
      "metadata": {
        "id": "uVyWwEIBN7BY"
      },
      "outputs": [],
      "source": [
        "from flask import Flask, request, jsonify\n",
        "from torchvision import models, transforms\n",
        "import torch\n",
        "import torch.nn as nn\n",
        "from PIL import Image\n",
        "import os\n",
        "\n",
        "app = Flask(__name__)\n",
        "\n",
        "# Define the model architecture\n",
        "num_classes = 3  # Update based on your dataset\n",
        "model = models.resnet18(pretrained=True)\n",
        "model.fc = nn.Linear(model.fc.in_features, num_classes)\n",
        "\n",
        "# Load the model's state dictionary with map_location=torch.device('cpu')\n",
        "model_path = 'D:\\\\McGill留學\\\\AI4Good\\\\resnetCNNmodel.pth'\n",
        "model.load_state_dict(torch.load(model_path, map_location=torch.device('cpu')))\n",
        "model.eval()  # Set the model to evaluation mode\n",
        "\n",
        "# Define the transformation\n",
        "test_transform = transforms.Compose([\n",
        "    transforms.Resize((224, 224)),\n",
        "    transforms.ToTensor(),\n",
        "    transforms.Normalize(mean=[0.485, 0.456, 0.406], std=[0.229, 0.224, 0.225])\n",
        "])\n",
        "\n",
        "# Function to preprocess the image and predict\n",
        "def model_predict(img_path, model):\n",
        "    img = Image.open(img_path).convert('RGB')\n",
        "    img = test_transform(img)\n",
        "    img = img.unsqueeze(0)  # Add batch dimension\n",
        "\n",
        "    with torch.no_grad():\n",
        "        preds = model(img)\n",
        "        predicted_class = torch.argmax(preds, dim=1).item()\n",
        "\n",
        "    if predicted_class == 0:\n",
        "        return 'Cross'\n",
        "    elif predicted_class == 1:\n",
        "        return 'Offset'  # Update based on your class labels\n",
        "    else:\n",
        "        return 'T'  # Update based on your class labels\n",
        "\n",
        "@app.route('/predict', methods=['POST'])\n",
        "def predict():\n",
        "    if 'file' not in request.files:\n",
        "        return jsonify({'error': 'No file part'})\n",
        "\n",
        "    file = request.files['file']\n",
        "    if file.filename == '':\n",
        "        return jsonify({'error': 'No selected file'})\n",
        "\n",
        "    if file:\n",
        "        basepath = os.path.dirname(__file__)\n",
        "        upload_folder = os.path.join(basepath, 'uploads')\n",
        "        if not os.path.exists(upload_folder):\n",
        "            os.makedirs(upload_folder)\n",
        "        file_path = os.path.join(upload_folder, file.filename)\n",
        "        file.save(file_path)\n",
        "\n",
        "        # Make prediction\n",
        "        prediction = model_predict(file_path, model)\n",
        "        return jsonify({'prediction': prediction})\n",
        "\n",
        "@app.route('/')\n",
        "def index():\n",
        "    return \"Welcome to the Image Classification API. Use the /predict endpoint to make predictions.\"\n",
        "\n",
        "if __name__ == '__main__':\n",
        "    app.run(debug=True)"
      ]
    }
  ]
}